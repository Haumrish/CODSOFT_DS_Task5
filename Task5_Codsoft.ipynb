{
 "cells": [
  {
   "cell_type": "code",
   "execution_count": 1,
   "id": "0f5be185",
   "metadata": {},
   "outputs": [
    {
     "name": "stdout",
     "output_type": "stream",
     "text": [
      "Logistic Regression - Precision: 0.03754693366708386, Recall: 0.9183673469387755, F1-Score: 0.07214428857715433\n",
      "Random Forest Classifier - Precision: 0.040976058931860036, Recall: 0.9081632653061225, F1-Score: 0.07841409691629955\n"
     ]
    }
   ],
   "source": [
    "import pandas as pd\n",
    "from sklearn.preprocessing import StandardScaler\n",
    "from sklearn.model_selection import train_test_split\n",
    "\n",
    "# Load the dataset\n",
    "data = pd.read_csv(r'C:\\Users\\haumr\\OneDrive\\Desktop\\creditcard.csv')\n",
    "\n",
    "# Drop the 'Time' column and scale the 'Amount' column\n",
    "data['NormalizedAmount'] = StandardScaler().fit_transform(data['Amount'].values.reshape(-1, 1))\n",
    "data = data.drop(['Time', 'Amount'], axis=1)\n",
    "\n",
    "# Separate the features and the target variable\n",
    "X = data.drop('Class', axis=1)\n",
    "y = data['Class']\n",
    "\n",
    "# Split the data into training and testing sets\n",
    "X_train, X_test, y_train, y_test = train_test_split(X, y, test_size=0.2, random_state=42, stratify=y)\n",
    "from sklearn.utils import resample\n",
    "\n",
    "# Combine the training data back for resampling\n",
    "train_data = pd.concat([X_train, y_train], axis=1)\n",
    "\n",
    "# Separate the majority and minority classes\n",
    "fraudulent = train_data[train_data.Class == 1]\n",
    "non_fraudulent = train_data[train_data.Class == 0]\n",
    "\n",
    "# Undersample the majority class\n",
    "non_fraudulent_undersampled = resample(non_fraudulent, \n",
    "                                       replace=False,    # sample without replacement\n",
    "                                       n_samples=len(fraudulent), # match minority class\n",
    "                                       random_state=42)  # reproducible results\n",
    "\n",
    "# Combine minority class with the undersampled majority class\n",
    "undersampled_data = pd.concat([fraudulent, non_fraudulent_undersampled])\n",
    "\n",
    "# Separate features and target\n",
    "X_train_res = undersampled_data.drop('Class', axis=1)\n",
    "y_train_res = undersampled_data['Class']\n",
    "from sklearn.linear_model import LogisticRegression\n",
    "from sklearn.ensemble import RandomForestClassifier\n",
    "\n",
    "# Logistic Regression\n",
    "log_reg = LogisticRegression(random_state=42)\n",
    "log_reg.fit(X_train_res, y_train_res)\n",
    "\n",
    "# Random Forest Classifier\n",
    "rf_clf = RandomForestClassifier(random_state=42)\n",
    "rf_clf.fit(X_train_res, y_train_res)\n",
    "from sklearn.metrics import precision_score, recall_score, f1_score\n",
    "\n",
    "# Predict on the test set\n",
    "y_pred_log_reg = log_reg.predict(X_test)\n",
    "y_pred_rf_clf = rf_clf.predict(X_test)\n",
    "\n",
    "# Calculate metrics for Logistic Regression\n",
    "precision_log_reg = precision_score(y_test, y_pred_log_reg)\n",
    "recall_log_reg = recall_score(y_test, y_pred_log_reg)\n",
    "f1_log_reg = f1_score(y_test, y_pred_log_reg)\n",
    "\n",
    "# Calculate metrics for Random Forest Classifier\n",
    "precision_rf_clf = precision_score(y_test, y_pred_rf_clf)\n",
    "recall_rf_clf = recall_score(y_test, y_pred_rf_clf)\n",
    "f1_rf_clf = f1_score(y_test, y_pred_rf_clf)\n",
    "\n",
    "# Print the metrics\n",
    "print(f\"Logistic Regression - Precision: {precision_log_reg}, Recall: {recall_log_reg}, F1-Score: {f1_log_reg}\")\n",
    "print(f\"Random Forest Classifier - Precision: {precision_rf_clf}, Recall: {recall_rf_clf}, F1-Score: {f1_rf_clf}\")\n"
   ]
  },
  {
   "cell_type": "code",
   "execution_count": null,
   "id": "b5ba8643",
   "metadata": {},
   "outputs": [],
   "source": []
  }
 ],
 "metadata": {
  "kernelspec": {
   "display_name": "Python 3 (ipykernel)",
   "language": "python",
   "name": "python3"
  },
  "language_info": {
   "codemirror_mode": {
    "name": "ipython",
    "version": 3
   },
   "file_extension": ".py",
   "mimetype": "text/x-python",
   "name": "python",
   "nbconvert_exporter": "python",
   "pygments_lexer": "ipython3",
   "version": "3.11.5"
  }
 },
 "nbformat": 4,
 "nbformat_minor": 5
}
